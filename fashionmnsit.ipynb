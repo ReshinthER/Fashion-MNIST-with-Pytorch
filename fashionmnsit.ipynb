{
  "nbformat": 4,
  "nbformat_minor": 0,
  "metadata": {
    "colab": {
      "name": "fashionmnsit.ipynb",
      "version": "0.3.2",
      "provenance": [],
      "collapsed_sections": []
    },
    "kernelspec": {
      "name": "python3",
      "display_name": "Python 3"
    },
    "accelerator": "GPU"
  },
  "cells": [
    {
      "metadata": {
        "id": "C1E8SbGeBE4t",
        "colab_type": "code",
        "outputId": "deffd544-e86a-41d1-b715-482fe462ce66",
        "colab": {
          "base_uri": "https://localhost:8080/",
          "height": 346
        }
      },
      "cell_type": "code",
      "source": [
        "!pip install torch torchvision"
      ],
      "execution_count": 1,
      "outputs": [
        {
          "output_type": "stream",
          "text": [
            "Collecting torch\n",
            "\u001b[?25l  Downloading https://files.pythonhosted.org/packages/49/0e/e382bcf1a6ae8225f50b99cc26effa2d4cc6d66975ccf3fa9590efcbedce/torch-0.4.1-cp36-cp36m-manylinux1_x86_64.whl (519.5MB)\n",
            "\u001b[K    100% |████████████████████████████████| 519.5MB 25kB/s \n",
            "tcmalloc: large alloc 1073750016 bytes == 0x5a1dc000 @  0x7f8501f102a4 0x591a07 0x5b5d56 0x502e9a 0x506859 0x502209 0x502f3d 0x506859 0x504c28 0x502540 0x502f3d 0x506859 0x504c28 0x502540 0x502f3d 0x506859 0x504c28 0x502540 0x502f3d 0x507641 0x502209 0x502f3d 0x506859 0x504c28 0x502540 0x502f3d 0x507641 0x504c28 0x502540 0x502f3d 0x507641\n",
            "\u001b[?25hCollecting torchvision\n",
            "\u001b[?25l  Downloading https://files.pythonhosted.org/packages/ca/0d/f00b2885711e08bd71242ebe7b96561e6f6d01fdb4b9dcf4d37e2e13c5e1/torchvision-0.2.1-py2.py3-none-any.whl (54kB)\n",
            "\u001b[K    100% |████████████████████████████████| 61kB 18.8MB/s \n",
            "\u001b[?25hRequirement already satisfied: six in /usr/local/lib/python3.6/dist-packages (from torchvision) (1.11.0)\n",
            "Requirement already satisfied: numpy in /usr/local/lib/python3.6/dist-packages (from torchvision) (1.14.6)\n",
            "Collecting pillow>=4.1.1 (from torchvision)\n",
            "\u001b[?25l  Downloading https://files.pythonhosted.org/packages/62/94/5430ebaa83f91cc7a9f687ff5238e26164a779cca2ef9903232268b0a318/Pillow-5.3.0-cp36-cp36m-manylinux1_x86_64.whl (2.0MB)\n",
            "\u001b[K    100% |████████████████████████████████| 2.0MB 5.2MB/s \n",
            "\u001b[?25hInstalling collected packages: torch, pillow, torchvision\n",
            "  Found existing installation: Pillow 4.0.0\n",
            "    Uninstalling Pillow-4.0.0:\n",
            "      Successfully uninstalled Pillow-4.0.0\n",
            "Successfully installed pillow-5.3.0 torch-0.4.1 torchvision-0.2.1\n"
          ],
          "name": "stdout"
        }
      ]
    },
    {
      "metadata": {
        "id": "U7aNeSiXBXNG",
        "colab_type": "code",
        "outputId": "a6eecd48-6ac4-45de-a375-c3e448d55aa7",
        "colab": {
          "base_uri": "https://localhost:8080/",
          "height": 146
        }
      },
      "cell_type": "code",
      "source": [
        "#Download Fashion MNIST\n",
        "import torch\n",
        "import torchvision\n",
        "from torchvision import datasets,transforms\n",
        "transform =transforms.Compose((transforms.ToTensor(),\n",
        "                                     transforms.Normalize((0.5,0.5,0.5),(0.5,0.5,0.5))\n",
        "                                    ))\n",
        "dataset = torchvision.datasets.FashionMNIST(\"FASHIONMNIST\",transform = transform,download = True,train = True)\n",
        "testset = torchvision.datasets.FashionMNIST(\"FASHIONMNIST\",transform = transform,train = False,download = True)"
      ],
      "execution_count": 2,
      "outputs": [
        {
          "output_type": "stream",
          "text": [
            "Downloading http://fashion-mnist.s3-website.eu-central-1.amazonaws.com/train-images-idx3-ubyte.gz\n",
            "Downloading http://fashion-mnist.s3-website.eu-central-1.amazonaws.com/train-labels-idx1-ubyte.gz\n",
            "Downloading http://fashion-mnist.s3-website.eu-central-1.amazonaws.com/t10k-images-idx3-ubyte.gz\n",
            "Downloading http://fashion-mnist.s3-website.eu-central-1.amazonaws.com/t10k-labels-idx1-ubyte.gz\n",
            "Processing...\n",
            "Done!\n"
          ],
          "name": "stdout"
        }
      ]
    },
    {
      "metadata": {
        "id": "NApT_gw8CgF1",
        "colab_type": "code",
        "colab": {}
      },
      "cell_type": "code",
      "source": [
        "#Loader variable\n",
        "trainloader = torch.utils.data.DataLoader(dataset,batch_size = 128,shuffle = True)#Training set\n",
        "testloader = torch.utils.data.DataLoader(testset,batch_size=128,shuffle = True)#Testing set "
      ],
      "execution_count": 0,
      "outputs": []
    },
    {
      "metadata": {
        "id": "M6w-Iv7uDnhW",
        "colab_type": "code",
        "colab": {}
      },
      "cell_type": "code",
      "source": [
        "#Iterating through the Images and the corresponding Labels\n",
        "iter_data = iter(trainloader)\n",
        "images, labels = iter_data.next()"
      ],
      "execution_count": 0,
      "outputs": []
    },
    {
      "metadata": {
        "id": "Adbs9GNjEaJW",
        "colab_type": "code",
        "outputId": "b6b625ed-7fc8-4454-99ed-3c7138e859f0",
        "colab": {
          "base_uri": "https://localhost:8080/",
          "height": 35
        }
      },
      "cell_type": "code",
      "source": [
        "#Shape enumeration\n",
        "print(images.shape)"
      ],
      "execution_count": 5,
      "outputs": [
        {
          "output_type": "stream",
          "text": [
            "torch.Size([128, 1, 28, 28])\n"
          ],
          "name": "stdout"
        }
      ]
    },
    {
      "metadata": {
        "id": "CAAR50kVGDsH",
        "colab_type": "code",
        "colab": {}
      },
      "cell_type": "code",
      "source": [
        "#Model Construction\n",
        "import torch.nn as nn\n",
        "import torch.nn.functional as F\n",
        "\n",
        "class Net(nn.Module):\n",
        "  def __init__(self):\n",
        "    super(Net,self).__init__()\n",
        "    self.hidden1 = nn.Linear(784,392)\n",
        "    self.hidden2 = nn.Linear(392,256)\n",
        "    self.hidden3 = nn.Linear(256,128)\n",
        "    self.hidden4 = nn.Linear(128,64)\n",
        "    self.hidden5 = nn.Linear(64,32)\n",
        "    self.hidden6 = nn.Linear(32,16)\n",
        "    self.output = nn.Linear(16,10)\n",
        "      \n",
        "  def forward(self,x):\n",
        "    x = F.relu(self.hidden1(x))\n",
        "    x = F.relu(self.hidden2(x))\n",
        "    x = F.relu(self.hidden3(x))\n",
        "    x = F.relu(self.hidden4(x))\n",
        "    x = F.relu(self.hidden5(x))\n",
        "    x = F.relu(self.hidden6(x))\n",
        "    x = F.log_softmax(self.output(x),dim = 1)\n",
        "    return x"
      ],
      "execution_count": 0,
      "outputs": []
    },
    {
      "metadata": {
        "id": "MVlV_jtNKZ7n",
        "colab_type": "code",
        "colab": {}
      },
      "cell_type": "code",
      "source": [
        "#Reshaping the input Dataset\n",
        "input = images.view(images.shape[0],-1)\n",
        "model = Net()"
      ],
      "execution_count": 0,
      "outputs": []
    },
    {
      "metadata": {
        "id": "agVENDr6K5w3",
        "colab_type": "code",
        "colab": {}
      },
      "cell_type": "code",
      "source": [
        "#Forward pass\n",
        "output = model.forward(input)"
      ],
      "execution_count": 0,
      "outputs": []
    },
    {
      "metadata": {
        "id": "r8JMlFb6LkQW",
        "colab_type": "code",
        "colab": {}
      },
      "cell_type": "code",
      "source": [
        "#Loss and optimizer\n",
        "from torch import optim\n",
        "criterion = nn.NLLLoss()\n",
        "optimizer = optim.Adam(model.parameters(),lr = 0.001)"
      ],
      "execution_count": 0,
      "outputs": []
    },
    {
      "metadata": {
        "id": "6VnJ6AweQgqG",
        "colab_type": "code",
        "outputId": "5d16c488-d362-4712-b804-5c9b66ec03ff",
        "colab": {
          "base_uri": "https://localhost:8080/",
          "height": 126
        }
      },
      "cell_type": "code",
      "source": [
        "#Training \n",
        "epochs = 6\n",
        "for i in range(epochs):\n",
        "  for images,labels in trainloader:\n",
        "    im = images.view(images.shape[0],-1)\n",
        "    output = model.forward(im)\n",
        "    optimizer.zero_grad\n",
        "    loss = criterion(output,labels)\n",
        "    loss.backward()\n",
        "    optimizer.step()\n",
        "    running_loss = loss.item()\n",
        "    \n",
        "  else:\n",
        "    print(f\"Training Loss:{running_loss/len(trainloader)}\")\n",
        "    "
      ],
      "execution_count": 10,
      "outputs": [
        {
          "output_type": "stream",
          "text": [
            "Training Loss:0.004110638520865044\n",
            "Training Loss:0.004662275314331055\n",
            "Training Loss:0.0052467775243177596\n",
            "Training Loss:0.005221826435406325\n",
            "Training Loss:0.005109502816759447\n",
            "Training Loss:0.0049741959521002865\n"
          ],
          "name": "stdout"
        }
      ]
    },
    {
      "metadata": {
        "id": "AErhWgKuT6vI",
        "colab_type": "code",
        "outputId": "b8b034cb-8333-456a-db12-4178a5c241f8",
        "colab": {
          "base_uri": "https://localhost:8080/",
          "height": 35
        }
      },
      "cell_type": "code",
      "source": [
        "test_input , labels = next(iter(testloader))\n",
        "test_input = test_input.view(test_input.shape[0],-1)\n",
        "ps = torch.exp(model(test_input))\n",
        "print(ps.shape)"
      ],
      "execution_count": 11,
      "outputs": [
        {
          "output_type": "stream",
          "text": [
            "torch.Size([128, 10])\n"
          ],
          "name": "stdout"
        }
      ]
    },
    {
      "metadata": {
        "id": "zroyGvsvXlBE",
        "colab_type": "code",
        "outputId": "e48da3a4-ea80-486d-a6fb-78891e58d356",
        "colab": {
          "base_uri": "https://localhost:8080/",
          "height": 199
        }
      },
      "cell_type": "code",
      "source": [
        "top_p , top_class =  ps.topk(1,dim = 1)\n",
        "print(top_class[:10,:])"
      ],
      "execution_count": 12,
      "outputs": [
        {
          "output_type": "stream",
          "text": [
            "tensor([[7],\n",
            "        [7],\n",
            "        [7],\n",
            "        [7],\n",
            "        [7],\n",
            "        [7],\n",
            "        [7],\n",
            "        [7],\n",
            "        [7],\n",
            "        [7]])\n"
          ],
          "name": "stdout"
        }
      ]
    },
    {
      "metadata": {
        "id": "XgGzBvr3YxLk",
        "colab_type": "code",
        "colab": {}
      },
      "cell_type": "code",
      "source": [
        "equals = top_class == labels.view(*top_class.shape)"
      ],
      "execution_count": 0,
      "outputs": []
    },
    {
      "metadata": {
        "id": "xCX6B9HZZUeF",
        "colab_type": "code",
        "outputId": "c784c59a-206a-4276-b005-38ec0d8f5e7e",
        "colab": {
          "base_uri": "https://localhost:8080/",
          "height": 35
        }
      },
      "cell_type": "code",
      "source": [
        "accuracy = torch.mean(equals.type(torch.FloatTensor))\n",
        "print(f\"Accuracy:{accuracy.item()*100}%\")"
      ],
      "execution_count": 14,
      "outputs": [
        {
          "output_type": "stream",
          "text": [
            "Accuracy:9.375%\n"
          ],
          "name": "stdout"
        }
      ]
    },
    {
      "metadata": {
        "id": "hsRVyBXZZu1U",
        "colab_type": "code",
        "outputId": "7e4fed81-7485-4337-f02e-2715ba1aaf0a",
        "colab": {
          "base_uri": "https://localhost:8080/",
          "height": 401
        }
      },
      "cell_type": "code",
      "source": [
        "epochs = 20\n",
        "steps = 0\n",
        "\n",
        "train_losses , test_losses = [],[]\n",
        "for i in range(epochs):\n",
        "    running_loss = 0\n",
        "    for images,labels in trainloader:\n",
        "      optimizer.zero_grad()\n",
        "      t_input = images.view(images.shape[0],-1)\n",
        "      log_ps = model(t_input)\n",
        "      loss = criterion(log_ps,labels)\n",
        "      loss.backward()\n",
        "      optimizer.step()\n",
        "      running_loss += loss.item()\n",
        "    else:\n",
        "      test_loss = 0\n",
        "      accuracy = 0\n",
        "    with torch.no_grad():\n",
        "      for images,labels in testloader:\n",
        "        test_input = images.view(images.shape[0],-1)\n",
        "        output = model(test_input)\n",
        "        test_loss += criterion(output, labels)\n",
        "        ps = torch.exp(output)\n",
        "        top_p ,top_class = ps.topk(1,dim=1)\n",
        "        equals = top_class == labels.view(*top_class.shape)\n",
        "        accuracy += torch.mean(equals.type(torch.FloatTensor))\n",
        "    train_losses.append(running_loss/len(trainloader))\n",
        "    test_losses.append(test_loss/len(testloader))\n",
        "    \n",
        "    print(\"Epoch: {}/{}..\".format(i+1,epochs),\n",
        "               \"Training Loss : {:.3f}..\".format(running_loss/len(trainloader)),\n",
        "               \"Test Loss : {:.3f}..\".format(test_loss/len(testloader)),\n",
        "               \"Test Accuracy:{:.3f}\".format(accuracy/len(testloader)))\n",
        "    \n",
        "    "
      ],
      "execution_count": 15,
      "outputs": [
        {
          "output_type": "stream",
          "text": [
            "Epoch: 1/20.. Training Loss : 2.328.. Test Loss : 2.327.. Test Accuracy:0.100\n",
            "Epoch: 2/20.. Training Loss : 2.327.. Test Loss : 2.326.. Test Accuracy:0.100\n",
            "Epoch: 3/20.. Training Loss : 2.326.. Test Loss : 2.325.. Test Accuracy:0.100\n",
            "Epoch: 4/20.. Training Loss : 2.324.. Test Loss : 2.323.. Test Accuracy:0.100\n",
            "Epoch: 5/20.. Training Loss : 2.323.. Test Loss : 2.321.. Test Accuracy:0.100\n",
            "Epoch: 6/20.. Training Loss : 2.321.. Test Loss : 2.320.. Test Accuracy:0.100\n",
            "Epoch: 7/20.. Training Loss : 2.319.. Test Loss : 2.318.. Test Accuracy:0.101\n",
            "Epoch: 8/20.. Training Loss : 2.317.. Test Loss : 2.316.. Test Accuracy:0.100\n",
            "Epoch: 9/20.. Training Loss : 2.315.. Test Loss : 2.314.. Test Accuracy:0.099\n",
            "Epoch: 10/20.. Training Loss : 2.313.. Test Loss : 2.312.. Test Accuracy:0.099\n",
            "Epoch: 11/20.. Training Loss : 2.311.. Test Loss : 2.310.. Test Accuracy:0.101\n",
            "Epoch: 12/20.. Training Loss : 2.309.. Test Loss : 2.308.. Test Accuracy:0.100\n",
            "Epoch: 13/20.. Training Loss : 2.307.. Test Loss : 2.307.. Test Accuracy:0.100\n",
            "Epoch: 14/20.. Training Loss : 2.306.. Test Loss : 2.305.. Test Accuracy:0.100\n",
            "Epoch: 15/20.. Training Loss : 2.305.. Test Loss : 2.304.. Test Accuracy:0.100\n",
            "Epoch: 16/20.. Training Loss : 2.304.. Test Loss : 2.303.. Test Accuracy:0.100\n",
            "Epoch: 17/20.. Training Loss : 2.303.. Test Loss : 2.303.. Test Accuracy:0.100\n",
            "Epoch: 18/20.. Training Loss : 2.303.. Test Loss : 2.303.. Test Accuracy:0.101\n",
            "Epoch: 19/20.. Training Loss : 2.303.. Test Loss : 2.303.. Test Accuracy:0.100\n",
            "Epoch: 20/20.. Training Loss : 2.303.. Test Loss : 2.303.. Test Accuracy:0.100\n"
          ],
          "name": "stdout"
        }
      ]
    },
    {
      "metadata": {
        "id": "CXEGTbecf_yI",
        "colab_type": "code",
        "outputId": "e1d17660-c67c-4bb9-f168-f72da159d323",
        "colab": {
          "base_uri": "https://localhost:8080/",
          "height": 365
        }
      },
      "cell_type": "code",
      "source": [
        "import matplotlib.pyplot as plt\n",
        "plt.plot(train_losses,label = \"Training Loss\")\n",
        "plt.plot(test_losses,label= \"Validation Loss\")\n",
        "plt.legend(frameon = False)"
      ],
      "execution_count": 17,
      "outputs": [
        {
          "output_type": "execute_result",
          "data": {
            "text/plain": [
              "<matplotlib.legend.Legend at 0x7f9f8f0b09e8>"
            ]
          },
          "metadata": {
            "tags": []
          },
          "execution_count": 17
        },
        {
          "output_type": "display_data",
          "data": {
            "image/png": "[encoded data removed]",
            "text/plain": [
              "<matplotlib.figure.Figure at 0x7f9f8f0b0908>"
            ]
          },
          "metadata": {
            "tags": []
          }
        }
      ]
    },
    {
      "metadata": {
        "id": "xV-53_U1lHyL",
        "colab_type": "code",
        "colab": {}
      },
      "cell_type": "code",
      "source": [
        ""
      ],
      "execution_count": 0,
      "outputs": []
    }
  ]
}